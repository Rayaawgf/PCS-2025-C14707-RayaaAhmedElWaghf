{
 "cells": [
  {
   "cell_type": "code",
   "execution_count": 19,
   "id": "5426f21f-9ca7-4f3d-9530-51d8434979d5",
   "metadata": {},
   "outputs": [],
   "source": [
    "import math\n",
    "import cmath\n",
    "import matplotlib.pyplot as plt\n"
   ]
  },
  {
   "cell_type": "code",
   "execution_count": 25,
   "id": "057583d6-c87d-4d44-b2dc-1db277d8d72c",
   "metadata": {},
   "outputs": [
    {
     "name": "stdout",
     "output_type": "stream",
     "text": [
      "\n",
      "Ex 2.1: f(2.3) = 9.715 (not a root)\n"
     ]
    }
   ],
   "source": [
    "def ex_2_1():\n",
    "    \"\"\"Exercise 1: Check if x=2.3 is a root of the function.\"\"\"\n",
    "x = 2.3\n",
    "f = x**2 - 0.25*x + 5\n",
    "print(f\"\\nEx 2.1: f(2.3) = {f} (not a root)\")"
   ]
  },
  {
   "cell_type": "code",
   "execution_count": 26,
   "id": "1681be9c-08c3-4515-9db4-e55446bc0a9b",
   "metadata": {},
   "outputs": [
    {
     "name": "stdout",
     "output_type": "stream",
     "text": [
      "\n",
      "Ex 2.2: De Moivre formula for n=3, x=0.79: True\n"
     ]
    }
   ],
   "source": [
    "def ex_2_2():\n",
    "    \"\"\"Exercise 2: Verify De Moivre's formula.\"\"\"\n",
    "x = math.pi/4\n",
    "n = 3\n",
    "lhs = (cmath.cos(x) + 1j*cmath.sin(x))**n\n",
    "rhs = cmath.cos(n*x) + 1j*cmath.sin(n*x)\n",
    "print(f\"\\nEx 2.2: De Moivre formula for n={n}, x={x:.2f}: {abs(lhs - rhs) < 1e-10}\")"
   ]
  },
  {
   "cell_type": "code",
   "execution_count": 27,
   "id": "a2bccf9c-c404-46db-8129-ba13ffd81e25",
   "metadata": {},
   "outputs": [
    {
     "name": "stdout",
     "output_type": "stream",
     "text": [
      "\n",
      "Ex 2.3: Euler's formula for x=1.05: True\n"
     ]
    }
   ],
   "source": [
    "def ex_2_3():\n",
    "    \"\"\"Exercise 3: Verify Euler's formula.\"\"\"\n",
    "x = math.pi/3\n",
    "lhs = cmath.exp(1j*x)\n",
    "rhs = cmath.cos(x) + 1j*cmath.sin(x)\n",
    "print(f\"\\nEx 2.3: Euler's formula for x={x:.2f}: {abs(lhs - rhs) < 1e-10}\")"
   ]
  },
  {
   "cell_type": "code",
   "execution_count": 28,
   "id": "1543b824-f403-4943-a35a-c0107df4ebbc",
   "metadata": {},
   "outputs": [
    {
     "name": "stdout",
     "output_type": "stream",
     "text": [
      "\n",
      "Ex 2.4:\n",
      "Convergence\n",
      "No convergence\n"
     ]
    }
   ],
   "source": [
    "def ex_2_4():\n",
    "    \"\"\"Exercise 4: Check convergence of a sequence.\"\"\"\n",
    "print(\"\\nEx 2.4:\")\n",
    " # Part 1\n",
    "u = 1.0\n",
    "uold = 10.0\n",
    "for iteration in range(2000):\n",
    "    if not abs(u - uold) > 1.e-8:\n",
    "        print('Convergence')\n",
    "        break\n",
    "    uold = u\n",
    "    u = 2*u\n",
    "else:\n",
    "    print('No convergence')  \n",
    "\n",
    "# Part 3 - with u=1 (integer)\n",
    "try:\n",
    "    u = 1\n",
    "    uold = 10.0\n",
    "    for iteration in range(2000):\n",
    "        if not abs(u - uold) > 1.e-8:\n",
    "            print('Convergence')\n",
    "            break\n",
    "        uold = u\n",
    "        u = 2*u\n",
    "    else:\n",
    "        print('No convergence')\n",
    "except TypeError as e:\n",
    "    print(f\"Error with u=1: {e}\")"
   ]
  },
  {
   "cell_type": "code",
   "execution_count": 31,
   "id": "9ef7c687-564e-40ae-be26-c4d82a39ca54",
   "metadata": {},
   "outputs": [
    {
     "name": "stdout",
     "output_type": "stream",
     "text": [
      "\n",
      "Ex 2.5: Truth table for implication:\n",
      "A=False, B=False => True\n",
      "A=False, B=True  => True\n",
      "A=True,  B=False => False\n",
      "A=True,  B=True  => True\n"
     ]
    }
   ],
   "source": [
    "def ex_2_5():\n",
    "    \"\"\"Exercise 5: Logical implication.\"\"\"\n",
    "def implication(A, B):\n",
    "    return (not A) or B\n",
    "\n",
    "print(\"\\nEx 2.5: Truth table for implication:\")\n",
    "print(f\"A=False, B=False => {implication(False, False)}\")\n",
    "print(f\"A=False, B=True  => {implication(False, True)}\")\n",
    "print(f\"A=True,  B=False => {implication(True, False)}\")\n",
    "print(f\"A=True,  B=True  => {implication(True, True)}\")"
   ]
  },
  {
   "cell_type": "code",
   "execution_count": 33,
   "id": "7a587c1f-5f4d-4d57-b52a-a24e3b130c02",
   "metadata": {},
   "outputs": [
    {
     "name": "stdout",
     "output_type": "stream",
     "text": [
      "\n",
      "Ex 2.6:\n",
      "Half-adder (1,1): (0, 1)\n",
      "Full-adder (1,1,1): (1, 1)\n"
     ]
    }
   ],
   "source": [
    "def ex_2_6():\n",
    "    \"\"\"Exercise 6: Half-adder and full-adder.\"\"\"\n",
    "def half_adder(p, q):\n",
    "    return (p ^ q, p & q)  # XOR, AND\n",
    "\n",
    "def full_adder(p, q, carry_in):\n",
    "    sum1, carry1 = half_adder(p, q)\n",
    "    sum_final, carry2 = half_adder(sum1, carry_in)\n",
    "    return (sum_final, carry1 | carry2)  # OR\n",
    "\n",
    "print(\"\\nEx 2.6:\")\n",
    "print(\"Half-adder (1,1):\", half_adder(1, 1))\n",
    "print(\"Full-adder (1,1,1):\", full_adder(1, 1, 1))"
   ]
  },
  {
   "cell_type": "code",
   "execution_count": null,
   "id": "63761e9e-ef8e-428e-bf65-415ab15359a2",
   "metadata": {},
   "outputs": [],
   "source": []
  }
 ],
 "metadata": {
  "kernelspec": {
   "display_name": "Python 3 (ipykernel)",
   "language": "python",
   "name": "python3"
  },
  "language_info": {
   "codemirror_mode": {
    "name": "ipython",
    "version": 3
   },
   "file_extension": ".py",
   "mimetype": "text/x-python",
   "name": "python",
   "nbconvert_exporter": "python",
   "pygments_lexer": "ipython3",
   "version": "3.11.7"
  }
 },
 "nbformat": 4,
 "nbformat_minor": 5
}
